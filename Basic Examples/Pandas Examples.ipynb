{
 "cells": [
  {
   "cell_type": "markdown",
   "metadata": {},
   "source": [
    "### Read in Data Frame"
   ]
  },
  {
   "cell_type": "code",
   "execution_count": null,
   "metadata": {},
   "outputs": [],
   "source": [
    "import pandas as pd # need to import the pandas class, these are similar to packages in R\n",
    "\n",
    "df = pd.read_excel('Demo Data/Calls and Sales per Agent.xlsx', index=False) # see the use of `pd` at the beginning, the phrase 'read_excel' is specific to pandas\n",
    "\n",
    "df.head(5) # 'head' is a pandas term as well. notice how it is the color blue, the number is the amount of rows to output"
   ]
  },
  {
   "cell_type": "markdown",
   "metadata": {},
   "source": [
    "### Add a new column\n",
    "We will create a column that is called 'Close Rate' which is Sales/Calls"
   ]
  },
  {
   "cell_type": "code",
   "execution_count": null,
   "metadata": {},
   "outputs": [],
   "source": [
    "# basic \n",
    "df['Close Rate'] = df['Sales']/df['Calls'] \n",
    "\n",
    "# intermediate - adding round function, getting percentage value by multiplying by 100\n",
    "# df['Close Rate'] = round((df['Sales']/df['Calls'])*100,2) \n",
    "\n",
    "# advanced - adding a '%' to the number using 'map' \n",
    "# df['Close Rate'] = round(df['Sales']/df['Calls']*100,2).map(\"{:,.2f}%\".format)\n",
    "\n",
    "df.head(2)"
   ]
  },
  {
   "cell_type": "markdown",
   "metadata": {},
   "source": [
    "### Rename a column in Pandas\n",
    "We will use this template `df = df.rename(columns={'oldName1': 'newName1', 'oldName2': 'newName2'})` and rename 'Agent ID' to 'agent_id'. "
   ]
  },
  {
   "cell_type": "code",
   "execution_count": null,
   "metadata": {},
   "outputs": [],
   "source": [
    "df = df.rename(columns={'Agent ID': 'agent_id'}) # notice how 'rename' is blue, it's a pandas keyword\n",
    "\n",
    "df.head(3)"
   ]
  },
  {
   "cell_type": "markdown",
   "metadata": {},
   "source": [
    "### Apply a function to Pandas Data Frame\n",
    "Doing row level calculations depending on different columns in the data frame. This is comparable to 'Case Statements' in SQL.\n",
    "\n",
    "Let's bucket the differet agents by their close Rate percentage."
   ]
  },
  {
   "cell_type": "code",
   "execution_count": null,
   "metadata": {},
   "outputs": [],
   "source": [
    "# create a funciton\n",
    "def close_rate_bucket(row):\n",
    "    if row['Close Rate'] >0 and  row['Close Rate'] < .05:\n",
    "        val = 'Poor'\n",
    "    elif row['Close Rate'] >= .05 and row['Close Rate'] < .1:\n",
    "        val = 'Okay'\n",
    "    elif row['Close Rate'] >= .1  and row['Close Rate'] < .15:\n",
    "        val = 'Average'\n",
    "    elif row['Close Rate'] >= .15  and row['Close Rate'] < .2:\n",
    "        val = 'Good'\n",
    "    elif row['Close Rate'] >= .2  and row['Close Rate'] < .25:\n",
    "        val = \"Great\"\n",
    "    else:\n",
    "        val = \"Other\"\n",
    "    return val\n",
    "\n",
    "# apply the function to the pandas data frame \n",
    "df['close_rate_agent_buckets'] = df.apply(close_rate_bucket, axis=1) # where 'agent_buckets' is the new column name\n",
    "\n",
    "#output\n",
    "df.head(7)"
   ]
  },
  {
   "cell_type": "markdown",
   "metadata": {},
   "source": [
    "### 'Case Statement' example in Pandas Second way\n",
    "Another way to conduct a Case-Statement-esque in pandas is using `.loc`.  Add a new column called 'agent_call_buckets'."
   ]
  },
  {
   "cell_type": "code",
   "execution_count": null,
   "metadata": {},
   "outputs": [],
   "source": [
    "# set the THEN first\n",
    "df['agent_call_buckets'] = 'Other' \n",
    "\n",
    "# implement your logic\n",
    "df.loc[(df['Calls'] > 0) & (df['Calls'] < 50), 'agent_call_buckets'] = 'Low'\n",
    "df.loc[(df['Calls'] >= 50) & (df['Calls'] < 100), 'agent_call_buckets'] = 'Medium'\n",
    "df.loc[(df['Calls'] >= 100), 'agent_call_buckets'] = 'High'\n",
    "\n",
    "# output\n",
    "df.head(6)"
   ]
  },
  {
   "cell_type": "markdown",
   "metadata": {},
   "source": [
    "### Performing a Group By\n",
    "Let's group by 'agent_call_buckets' and 'close_rate_buckets' to see if we have any insights"
   ]
  },
  {
   "cell_type": "code",
   "execution_count": null,
   "metadata": {},
   "outputs": [],
   "source": [
    "# create a subset, save it as a new data frame variable\n",
    "group_by = df[['agent_id', 'agent_call_buckets', 'close_rate_agent_buckets']] # <- double [[]] means 'subset', so you can grab spefic columns\n",
    "\n",
    "# perform the group by, notice how 'groupby' is blue, it's a pandas keyword\n",
    "group_by = group_by.groupby(['agent_call_buckets', 'close_rate_agent_buckets']).count().reset_index()\n",
    "\n",
    "# rename column\n",
    "group_by = group_by.rename(columns={'agent_id': 'number_of_agents'})\n",
    "\n",
    "group_by.head(9)"
   ]
  },
  {
   "cell_type": "markdown",
   "metadata": {},
   "source": [
    "### Filter dataframe \n",
    "Let's filter our df dataframe to get all agents with 'Poor' close rate ratings. And then we will look at 'Great' Agents."
   ]
  },
  {
   "cell_type": "code",
   "execution_count": null,
   "metadata": {},
   "outputs": [],
   "source": [
    "poor_agents = df[df['close_rate_agent_buckets'] == 'Poor'] # <-- filter our dataframe to only agents with Poor close rates\n",
    "poor_agents.head()"
   ]
  },
  {
   "cell_type": "code",
   "execution_count": null,
   "metadata": {},
   "outputs": [],
   "source": [
    "great_agents = df[df['close_rate_agent_buckets'] == 'Great'] \n",
    "great_agents.head()"
   ]
  },
  {
   "cell_type": "markdown",
   "metadata": {},
   "source": [
    "### Saving Data Frame \n",
    "We can save the different data frames we created into one Excel file with multiple sheets."
   ]
  },
  {
   "cell_type": "code",
   "execution_count": null,
   "metadata": {},
   "outputs": [],
   "source": [
    "import pandas as pd\n",
    "\n",
    "#create a Pandas Excel writer using XlsxWriter as the engine\n",
    "writer = pd.ExcelWriter('Output/Call Center Data.xlsx', engine='xlsxwriter')\n",
    "\n",
    "#write each DataFrame to a specific sheet\n",
    "group_by.to_excel(writer, sheet_name='Score Card', index=False)\n",
    "poor_agents.to_excel(writer, sheet_name='Need Improvement Agents', index=False)\n",
    "great_agents.to_excel(writer, sheet_name='Great Job Agents', index=False)\n",
    "df.to_excel(writer, sheet_name=\"Raw Data\", index=False)\n",
    "\n",
    "#close the Pandas Excel writer and output the Excel file\n",
    "writer.save()"
   ]
  },
  {
   "cell_type": "markdown",
   "metadata": {},
   "source": [
    "### Overview\n",
    "We have taken import, made our data manipulation in python, then exported to excel only using python. "
   ]
  }
 ],
 "metadata": {
  "kernelspec": {
   "display_name": "Python 3",
   "language": "python",
   "name": "python3"
  },
  "language_info": {
   "codemirror_mode": {
    "name": "ipython",
    "version": 3
   },
   "file_extension": ".py",
   "mimetype": "text/x-python",
   "name": "python",
   "nbconvert_exporter": "python",
   "pygments_lexer": "ipython3",
   "version": "3.8.2"
  }
 },
 "nbformat": 4,
 "nbformat_minor": 4
}
