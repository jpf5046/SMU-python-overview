{
 "cells": [
  {
   "cell_type": "markdown",
   "metadata": {},
   "source": [
    "# MSBA python high level\n",
    "#### python overview \n",
    "\n",
    "* python often is listed on job descriptions as skils required or desired.\n",
    "* Who am I?\n",
    "* Why it's inportant to know a little python before interviews"
   ]
  },
  {
   "cell_type": "markdown",
   "metadata": {},
   "source": [
    "## Job Postings in relation to key words on Indeed.com"
   ]
  },
  {
   "cell_type": "markdown",
   "metadata": {},
   "source": [
    "\n",
    "| Position Key Words    | python jobs | sql jobs |  r jobs  | Comparison                             |\n",
    "|-----------------------|-------------|----------|----------|--------------------------|\n",
    "| Data Analyst          | 15,265      | 34,166   |      11    | 123% more jobs with sql keyword    |\n",
    "| Data Engineer         | 38,199      | 27,270   |      3    | 40% more jobs with python keyword  |\n",
    "| Data Scientist        | 14,916      | 9,319    |     6     | 60% more jobs with python keyword  |\n",
    "| Business Analyst      | 1,136       | 12,977   |     10     |1,042% more jobs with sql keyword |\n",
    "| **Total**                 | **69,576**      | **83,732**   |    **30**   |  More postings related to sql keyword |"
   ]
  },
  {
   "cell_type": "markdown",
   "metadata": {},
   "source": [
    "## 2016 MSBA Alumni \n",
    "* learned R during Masters degree \n",
    "    * Used R at first start up I worked for (Healthcare analytics) using `dplyr` and `shiny` packages\n",
    "* Self taught python, saved company I worked for, **TXU**, \\$30,000 using python\n",
    "    "
   ]
  },
  {
   "cell_type": "markdown",
   "metadata": {},
   "source": [
    "##  What to gain from today's high level overview\n",
    "* after graduating SMU MSBA program I had and interview where I mentioned on my resume python\n",
    "    * in the interview they told me to go to the white board and sort a list\n",
    "    * Don't Do What I Did:"
   ]
  },
  {
   "cell_type": "code",
   "execution_count": 1,
   "metadata": {},
   "outputs": [],
   "source": [
    "# my task was to sort this list below, so it was in alphabetical order\n",
    "my_list = ['pears', 'apples', 'grapes', 'oranges']"
   ]
  },
  {
   "cell_type": "code",
   "execution_count": 5,
   "metadata": {},
   "outputs": [
    {
     "data": {
      "text/plain": [
       "['apples', 'grapes', 'oranges', 'pears']"
      ]
     },
     "execution_count": 5,
     "metadata": {},
     "output_type": "execute_result"
    }
   ],
   "source": [
    "# the answer is simple\n",
    "sorted(my_list)"
   ]
  },
  {
   "cell_type": "markdown",
   "metadata": {},
   "source": [
    "### Break Down today's talk into three parts"
   ]
  },
  {
   "cell_type": "markdown",
   "metadata": {},
   "source": [
    "* Basic Examples with `pandas`\n",
    "* Basic Examples with `matplotlib`\n",
    "* Using both to create a weekly report "
   ]
  },
  {
   "cell_type": "markdown",
   "metadata": {},
   "source": [
    "## Additional Resources \n",
    "Here are some great YoutTuber's and websites that have helped me learn and improve my python skillset:\n",
    "* [Data School YouTube Channel](https://www.youtube.com/watch?v=yzIMircGU5I) <-- great information on `pandas`\n",
    "* [sentex YouTube Channel](https://www.youtube.com/watch?v=nLw1RNvfElg&list=PLQVvvaa0QuDfSfqQuee6K8opKtZsh7sA9) <-- `pandas` overview, has other series on data science \n",
    "* [Data to Fish python tutorials](https://datatofish.com/python-tutorials/) <-- this has been the most helpful reference, `matplotlib`, `pandas`, `scikitlearn`\n",
    "* Check out The Office Model folder - example of building a Text Model via python with a relatable dataset "
   ]
  },
  {
   "cell_type": "code",
   "execution_count": null,
   "metadata": {},
   "outputs": [],
   "source": []
  }
 ],
 "metadata": {
  "kernelspec": {
   "display_name": "Python 3",
   "language": "python",
   "name": "python3"
  },
  "language_info": {
   "codemirror_mode": {
    "name": "ipython",
    "version": 3
   },
   "file_extension": ".py",
   "mimetype": "text/x-python",
   "name": "python",
   "nbconvert_exporter": "python",
   "pygments_lexer": "ipython3",
   "version": "3.8.2"
  }
 },
 "nbformat": 4,
 "nbformat_minor": 4
}
