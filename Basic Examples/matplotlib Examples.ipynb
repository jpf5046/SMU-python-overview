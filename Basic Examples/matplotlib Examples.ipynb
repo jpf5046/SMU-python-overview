{
 "cells": [
  {
   "cell_type": "code",
   "execution_count": null,
   "metadata": {},
   "outputs": [],
   "source": [
    "import pandas as pd\n",
    "import matplotlib.pyplot as plt"
   ]
  },
  {
   "cell_type": "code",
   "execution_count": null,
   "metadata": {},
   "outputs": [],
   "source": [
    "top_agents = pd.read_excel('Call Center Data.xlsx', sheet_name = 'Great Job Agents')\n",
    "\n",
    "data = top_agents['Close Rate'].tolist()\n",
    "labels = top_agents['Agent Name'].tolist()\n",
    "plt.xticks(range(len(data)), labels, rotation = 45) # try to run this without 'rotation'\n",
    "plt.xlabel('Agent Name')\n",
    "plt.ylabel('Close Rate')\n",
    "plt.title('Top Performing Agents')\n",
    "plt.bar(range(len(data)), data) \n",
    "plt.show()"
   ]
  },
  {
   "cell_type": "code",
   "execution_count": null,
   "metadata": {},
   "outputs": [],
   "source": [
    "bottom_agents = pd.read_excel('Call Center Data.xlsx', sheet_name = 'Need Improvement Agents')\n",
    "\n",
    "data = bottom_agents['Close Rate'].tolist()\n",
    "labels = bottom_agents['Agent Name'].tolist()\n",
    "plt.xticks(range(len(data)), labels, rotation = 45) # try to run this without 'rotation'\n",
    "plt.xlabel('Agent Name')\n",
    "plt.ylabel('Close Rate')\n",
    "plt.title('Agents Agents that Need Improment')\n",
    "plt.bar(range(len(data)), data) \n",
    "plt.show()"
   ]
  },
  {
   "cell_type": "code",
   "execution_count": null,
   "metadata": {},
   "outputs": [],
   "source": [
    "score_card_df = pd.read_excel('Call Center Data.xlsx', sheet_name = 'Score Card')\n",
    "\n",
    "labels = ['Poor', 'Okay', 'Average', 'Good', 'Great']\n",
    "high_calls = [len(score_card_df[(score_card_df['close_rate_agent_buckets'] == 'Poor') & (score_card_df['agent_call_buckets'] == 'High')]),\n",
    "             len(score_card_df[(score_card_df['close_rate_agent_buckets'] == 'Okay') & (score_card_df['agent_call_buckets'] == 'High')]),\n",
    "             len(score_card_df[(score_card_df['close_rate_agent_buckets'] == 'Average') & (score_card_df['agent_call_buckets'] == 'High')]),\n",
    "             len(score_card_df[(score_card_df['close_rate_agent_buckets'] == 'Good' )& (score_card_df['agent_call_buckets'] == 'High')]),\n",
    "             len(score_card_df[(score_card_df['close_rate_agent_buckets'] == 'Great') & (score_card_df['agent_call_buckets'] == 'High')]),]\n",
    "\n",
    "medium_calls = [len(score_card_df[(score_card_df['close_rate_agent_buckets'] == 'Poor') & (score_card_df['agent_call_buckets'] == 'Medium')]),\n",
    "             len(score_card_df[(score_card_df['close_rate_agent_buckets'] == 'Okay') & (score_card_df['agent_call_buckets'] == 'Medium')]),\n",
    "             len(score_card_df[(score_card_df['close_rate_agent_buckets'] == 'Average') & (score_card_df['agent_call_buckets'] == 'Medium')]),\n",
    "             len(score_card_df[(score_card_df['close_rate_agent_buckets'] == 'Good' )& (score_card_df['agent_call_buckets'] == 'Medium')]),\n",
    "             len(score_card_df[(score_card_df['close_rate_agent_buckets'] == 'Great') & (score_card_df['agent_call_buckets'] == 'Medium')]),]\n",
    "\n",
    "low_calls = [len(score_card_df[(score_card_df['close_rate_agent_buckets'] == 'Poor') & (score_card_df['agent_call_buckets'] == 'Low')]),\n",
    "             len(score_card_df[(score_card_df['close_rate_agent_buckets'] == 'Okay') & (score_card_df['agent_call_buckets'] == 'Low')]),\n",
    "             len(score_card_df[(score_card_df['close_rate_agent_buckets'] == 'Average') & (score_card_df['agent_call_buckets'] == 'Low')]),\n",
    "             len(score_card_df[(score_card_df['close_rate_agent_buckets'] == 'Good' )& (score_card_df['agent_call_buckets'] == 'Low')]),\n",
    "             len(score_card_df[(score_card_df['close_rate_agent_buckets'] == 'Great') & (score_card_df['agent_call_buckets'] == 'Low')]),]\n",
    "\n",
    "width = 0.35       # the width of the bars: can also be len(x) sequence\n",
    "\n",
    "fig, ax = plt.subplots()\n",
    "\n",
    "ax.bar(labels, high_calls, width, label='High Call Volume')\n",
    "ax.bar(labels, medium_calls, width, bottom=high_calls, label='Medium Call Volume')\n",
    "ax.bar(labels, low_calls, width, bottom=medium_calls, label='Low Call Volume')\n",
    "\n",
    "ax.set_ylabel('Number of Agents')\n",
    "ax.set_xlabel('Close Rate Bucket')\n",
    "ax.set_title('Agents by Call Count and Close Rate ')\n",
    "ax.legend()\n",
    "fig.savefig('stackedbar.png')\n",
    "plt.show()"
   ]
  },
  {
   "cell_type": "code",
   "execution_count": null,
   "metadata": {},
   "outputs": [],
   "source": []
  }
 ],
 "metadata": {
  "kernelspec": {
   "display_name": "Python 3",
   "language": "python",
   "name": "python3"
  },
  "language_info": {
   "codemirror_mode": {
    "name": "ipython",
    "version": 3
   },
   "file_extension": ".py",
   "mimetype": "text/x-python",
   "name": "python",
   "nbconvert_exporter": "python",
   "pygments_lexer": "ipython3",
   "version": "3.8.2"
  }
 },
 "nbformat": 4,
 "nbformat_minor": 4
}
