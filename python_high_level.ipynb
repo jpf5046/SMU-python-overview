{
 "cells": [
  {
   "cell_type": "markdown",
   "metadata": {},
   "source": [
    "# MSBA python high level\n",
    "#### **python overview**\n",
    "\n",
    "* **Purpose:** Provide a resource for real-world python examples for MSBA students.\n",
    "* **Why:** Udemy and other courses are great; tend ot be more technical and less practical \n",
    "\n",
    "#### **Resources in this repository**\n",
    "\n",
    "* Basic `pandas` examples using a fake dataset for based on call center data (Agents, Calls, Sales, etc.)\n",
    "* Multiple `matplotlib` examples using the same dataset\n",
    "* Way to automate emails from a python script\n",
    "* The Office Text Analytics model <-- live version [here](http://officetextanalyzer.herokuapp.com/), web app based"
   ]
  },
  {
   "cell_type": "code",
   "execution_count": null,
   "metadata": {
    "jupyter": {
     "source_hidden": true
    }
   },
   "outputs": [],
   "source": []
  },
  {
   "cell_type": "markdown",
   "metadata": {},
   "source": [
    "#### **Ways that python has helped me**\n",
    "\n",
    "* **Web Scraping:** \n",
    "    - Web scrapped TXU's competitors energy prices, saving department \\$30,000 \n",
    "    - Web Scrape LinkedIn for Leads for Sales People at Current role\n",
    "    - Data pulling from sites like Zillow to populate database\n",
    "\n",
    "\n",
    "* **ETL Process:** \n",
    "    - python can do everything alteryx/KNIME can, free and has a larger community; faster\n",
    "    - have been able to find connection strings for any database (SAS, Oracle, SSMS, MYSQL, PostgreSQL, etc.)\n",
    "    \n",
    "\n",
    "* **Web Applications:** \n",
    "    - using 'flask' helps create the Office Model referenced above\n",
    "    \n",
    "    \n",
    "* **Data Manipulation:**\n",
    "    - virtually every project I've worked on\n"
   ]
  },
  {
   "cell_type": "markdown",
   "metadata": {},
   "source": [
    "### **Additional Resources**\n",
    "Here are some great links have helped me learn and improve my python skillset:\n",
    "* [Data School YouTube Channel](https://www.youtube.com/watch?v=yzIMircGU5I) <-- great information on `pandas`\n",
    "* [sentex YouTube Channel](https://www.youtube.com/watch?v=nLw1RNvfElg&list=PLQVvvaa0QuDfSfqQuee6K8opKtZsh7sA9) <-- `pandas` overview, has other series on data science \n",
    "* [Data to Fish python tutorials](https://datatofish.com/python-tutorials/) <-- this has been the most helpful reference, `matplotlib`, `pandas`, `scikitlearn`\n",
    "* [Practical Business Python](https://pbpython.com/) <-- Great tutorials \n",
    "* [Jupyter Lab](https://jupyter.org/) <-- download jupyter lab if you do not have it on your computer yet"
   ]
  },
  {
   "cell_type": "markdown",
   "metadata": {},
   "source": [
    "#### **Ideal Outcomes**\n",
    "* Have a resource when starting python projects\n",
    "* download and install jupyter lab \n",
    "* able to be more confident with python use cases for real world problems "
   ]
  },
  {
   "cell_type": "markdown",
   "metadata": {},
   "source": [
    "#### **Job Market**\n",
    "\n",
    "| Position Key Words    | python jobs | sql jobs |  r jobs  | Comparison                             |\n",
    "|-----------------------|-------------|----------|----------|--------------------------|\n",
    "| Data Analyst          | 15,265      | 34,166   |      11    | 123% more jobs with sql keyword    |\n",
    "| Data Engineer         | 38,199      | 27,270   |      3    | 40% more jobs with python keyword  |\n",
    "| Data Scientist        | 14,916      | 9,319    |     6     | 60% more jobs with python keyword  |\n",
    "| Business Analyst      | 1,136       | 12,977   |     10     |1,042% more jobs with sql keyword |\n",
    "| **Total**                 | **69,576**      | **83,732**   |    **30**   |  More postings related to sql keyword |"
   ]
  },
  {
   "cell_type": "markdown",
   "metadata": {},
   "source": [
    "#### **Contact**\n",
    "* [LinkedIn Profile](https://www.linkedin.com/in/john-friel-data/)\n",
    "* jfriel1014@gmail.com\n",
    "\n",
    "reach out to me if you have any questions or if you have questions on web scraping or connecting to SAS via python, **Star** this repository if you found this helpful"
   ]
  },
  {
   "cell_type": "code",
   "execution_count": null,
   "metadata": {},
   "outputs": [],
   "source": []
  }
 ],
 "metadata": {
  "kernelspec": {
   "display_name": "Python 3",
   "language": "python",
   "name": "python3"
  },
  "language_info": {
   "codemirror_mode": {
    "name": "ipython",
    "version": 3
   },
   "file_extension": ".py",
   "mimetype": "text/x-python",
   "name": "python",
   "nbconvert_exporter": "python",
   "pygments_lexer": "ipython3",
   "version": "3.8.2"
  }
 },
 "nbformat": 4,
 "nbformat_minor": 4
}
